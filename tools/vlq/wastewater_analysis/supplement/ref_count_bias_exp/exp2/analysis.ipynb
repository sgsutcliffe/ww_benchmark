{
 "cells": [
  {
   "cell_type": "markdown",
   "metadata": {},
   "source": []
  },
  {
   "cell_type": "markdown",
   "metadata": {},
   "source": [
    "Edit distance between benchmark sequences"
   ]
  },
  {
   "cell_type": "code",
   "execution_count": 1,
   "metadata": {},
   "outputs": [
    {
     "name": "stdout",
     "output_type": "stream",
     "text": [
      "6\n"
     ]
    }
   ],
   "source": [
    "import editdistance\n",
    "ba2 = \"sequences/BA.2_EPI_ISL_9517080.fasta\"\n",
    "ba1 = \"sequences/BA.1_EPI_ISL_9335041.fasta\"\n",
    "ed = editdistance.eval(ba1, ba2)\n",
    "print(ed)"
   ]
  },
  {
   "cell_type": "markdown",
   "metadata": {},
   "source": [
    "Plot results"
   ]
  },
  {
   "cell_type": "code",
   "execution_count": 16,
   "metadata": {},
   "outputs": [
    {
     "name": "stdout",
     "output_type": "stream",
     "text": [
      "['./5_seq/kallisto/benchmarks/benchmarks/ww_BA.1vBA.2_reference_set/BA.1_EPI_ISL_10223811_ab50/predictions_m0.tsv', './4_seq/kallisto/benchmarks/benchmarks/ww_BA.1vBA.2_reference_set/BA.1_EPI_ISL_10223811_ab50/predictions_m0.tsv', './6_seq/kallisto/benchmarks/benchmarks/ww_BA.1vBA.2_reference_set/BA.1_EPI_ISL_10223811_ab50/predictions_m0.tsv', './7_seq/kallisto/benchmarks/benchmarks/ww_BA.1vBA.2_reference_set/BA.1_EPI_ISL_10223811_ab50/predictions_m0.tsv', './3_seq/kallisto/benchmarks/benchmarks/ww_BA.1vBA.2_reference_set/BA.1_EPI_ISL_10223811_ab50/predictions_m0.tsv', './2_seq/kallisto/benchmarks/benchmarks/ww_BA.1vBA.2_reference_set/BA.1_EPI_ISL_10223811_ab50/predictions_m0.tsv', './1_seq/kallisto/benchmarks/benchmarks/ww_BA.1vBA.2_reference_set/BA.1_EPI_ISL_10223811_ab50/predictions_m0.tsv', './18_seq/kallisto/benchmarks/benchmarks/ww_BA.1vBA.2_reference_set/BA.1_EPI_ISL_10223811_ab50/predictions_m0.tsv', './10_seq/kallisto/benchmarks/benchmarks/ww_BA.1vBA.2_reference_set/BA.1_EPI_ISL_10223811_ab50/predictions_m0.tsv', './9_seq/kallisto/benchmarks/benchmarks/ww_BA.1vBA.2_reference_set/BA.1_EPI_ISL_10223811_ab50/predictions_m0.tsv', './8_seq/kallisto/benchmarks/benchmarks/ww_BA.1vBA.2_reference_set/BA.1_EPI_ISL_10223811_ab50/predictions_m0.tsv']\n"
     ]
    }
   ],
   "source": [
    "from utils import getListOfFiles\n",
    "import os\n",
    "\n",
    "all_files = getListOfFiles(os.curdir)\n",
    "res_path = \"predictions_m0.tsv\"\n",
    "res_files = list(filter(lambda p: res_path in p, all_files))\n",
    "print(res_files)\n"
   ]
  },
  {
   "cell_type": "code",
   "execution_count": 17,
   "metadata": {},
   "outputs": [
    {
     "name": "stdout",
     "output_type": "stream",
     "text": [
      "[0, 26.36, 49.06, 49.54, 50.75, 51.11, 51.09, 51.14, 51.07, 51.02, 51.03, 0, 0, 0, 0, 0, 0, 0, 50.94, 0, 0, 0, 0, 0]\n",
      "[0, 73.64, 50.94, 50.46, 49.25, 48.89, 48.91, 48.86, 48.93, 48.98, 48.97, 0, 0, 0, 0, 0, 0, 0, 49.06, 0, 0, 0, 0, 0]\n"
     ]
    }
   ],
   "source": [
    "import pandas as pd\n",
    "\n",
    "resBA1 = [0,0,0,0,0,0,0,0,0,0,0,0,0,0,0,0,0,0,0,0,0,0,0,0]\n",
    "resBA2 = [0,0,0,0,0,0,0,0,0,0,0,0,0,0,0,0,0,0,0,0,0,0,0,0]\n",
    "\n",
    "\n",
    "\n",
    "for res_file  in res_files:\n",
    "    #get the number of mutations\n",
    "    nm = res_file[2]\n",
    "    if res_file[3] != \"_\":\n",
    "        nm+= res_file[3]\n",
    "    nm = int(nm)    \n",
    "    # print(nm)\n",
    "    \n",
    "    # read tsv\n",
    "    tsv_file = open(res_file).readlines()[2:]\n",
    "    tv = 50\n",
    "\n",
    "    # find the other relevant sequence in the list from indices 2 - 11 and calculate relative prediction error\n",
    "    for item in tsv_file[1:]:\n",
    "        lineage = item.split(\"\\t\")[0]\n",
    "        ev = float(item.split(\"\\t\")[2])\n",
    "\n",
    "        difference = round(abs(ev-tv), 3)\n",
    "        relative_error_nm = round(difference/tv, 3)\n",
    "\n",
    "        \n",
    "        if lineage == \"BA.1\":\n",
    "            resBA1[nm] = ev\n",
    "            \n",
    "        \n",
    "        if lineage == \"BA.2\":\n",
    "            resBA2[nm] = ev\n",
    "        \n",
    "\n",
    "print(resBA1)\n",
    "print(resBA2)\n",
    "\n"
   ]
  },
  {
   "cell_type": "code",
   "execution_count": 19,
   "metadata": {},
   "outputs": [
    {
     "data": {
      "image/png": "[encoded data removed]",
      "text/plain": [
       "<Figure size 432x288 with 1 Axes>"
      ]
     },
     "metadata": {
      "needs_background": "light"
     },
     "output_type": "display_data"
    }
   ],
   "source": [
    "BA1y = resBA1[1:11] #[26.36, 49.06, 49.54, 50.75, 51.11, 51.09, 51.14, 51.07, 51.02, 51.03, 50.94]\n",
    "BA2y = resBA2[1:11] #[73.64, 50.94, 50.46, 49.25, 48.89, 48.91, 48.86, 48.93, 48.98, 48.97, 49.06]\n",
    "x = [1,2,3,4,5,6,7,8,9,10]\n",
    "y = [50,50,50,50,50,50,50,50,50,50]\n",
    "\n",
    "import matplotlib.pyplot as plt\n",
    "\n",
    "plt.plot(x,BA1y,label = \"BA.1\")\n",
    "plt.plot(x,BA2y,label = \"BA.2\")\n",
    "plt.xlabel(\"Number of BA.1 sequences\")\n",
    "plt.ylabel(\"Abundance estimates\")\n",
    "plt.plot(x,y,label = \"true abundance\", color = \"black\")\n",
    "plt.grid()\n",
    "plt.ylim(0, 100)\n",
    "plt.legend()\n",
    "plt.xticks(x)\n",
    "plt.savefig(\"perLineagevariationbias_exp1_0threshold.pdf\")\n"
   ]
  }
 ],
 "metadata": {
  "interpreter": {
   "hash": "aee8b7b246df8f9039afb4144a1f6fd8d2ca17a180786b69acc140d282b71a49"
  },
  "kernelspec": {
   "display_name": "Python 3.9.6 64-bit",
   "language": "python",
   "name": "python3"
  },
  "language_info": {
   "codemirror_mode": {
    "name": "ipython",
    "version": 3
   },
   "file_extension": ".py",
   "mimetype": "text/x-python",
   "name": "python",
   "nbconvert_exporter": "python",
   "pygments_lexer": "ipython3",
   "version": "3.9.7"
  },
  "orig_nbformat": 4
 },
 "nbformat": 4,
 "nbformat_minor": 2
}
