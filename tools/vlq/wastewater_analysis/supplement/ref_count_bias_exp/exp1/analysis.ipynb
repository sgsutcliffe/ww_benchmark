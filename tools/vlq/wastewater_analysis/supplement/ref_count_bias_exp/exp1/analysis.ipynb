{
 "cells": [
  {
   "cell_type": "code",
   "execution_count": 1,
   "metadata": {},
   "outputs": [
    {
     "name": "stdout",
     "output_type": "stream",
     "text": [
      "['./8_voc/kallisto/benchmarks/benchmarks/ww_C.37vP.1_reference_set/P.1_EPI_ISL_2035339_ab50/predictions_m0.1.tsv', './9_voc/kallisto/benchmarks/benchmarks/ww_C.37vP.1_reference_set/P.1_EPI_ISL_2035339_ab50/predictions_m0.1.tsv', './7_voc/kallisto/benchmarks/benchmarks/ww_C.37vP.1_reference_set/P.1_EPI_ISL_2035339_ab50/predictions_m0.1.tsv', './6_voc/kallisto/benchmarks/benchmarks/ww_C.37vP.1_reference_set/P.1_EPI_ISL_2035339_ab50/predictions_m0.1.tsv', './4_voc/kallisto/benchmarks/benchmarks/ww_C.37vP.1_reference_set/P.1_EPI_ISL_2035339_ab50/predictions_m0.1.tsv', './5_voc/kallisto/benchmarks/benchmarks/ww_C.37vP.1_reference_set/P.1_EPI_ISL_2035339_ab50/predictions_m0.1.tsv', './1_voc/kallisto/benchmarks/benchmarks/ww_C.37vP.1_reference_set/P.1_EPI_ISL_2035339_ab50/predictions_m0.1.tsv', './2_voc/kallisto/benchmarks/benchmarks/ww_C.37vP.1_reference_set/P.1_EPI_ISL_2035339_ab50/predictions_m0.1.tsv', './3_voc/kallisto/benchmarks/benchmarks/ww_C.37vP.1_reference_set/P.1_EPI_ISL_2035339_ab50/predictions_m0.1.tsv']\n"
     ]
    }
   ],
   "source": [
    "from utils import getListOfFiles\n",
    "import os\n",
    "\n",
    "all_files = getListOfFiles(os.curdir)\n",
    "res_path = \"predictions_m0.1.tsv\"\n",
    "res_files = list(filter(lambda p: res_path in p, all_files))\n",
    "print(res_files)"
   ]
  },
  {
   "cell_type": "code",
   "execution_count": 2,
   "metadata": {},
   "outputs": [
    {
     "name": "stdout",
     "output_type": "stream",
     "text": [
      "[0, 0.009, 0.009, 0.009, 0.009, 0.009, 0.009, 0.009, 0.019, 0.011]\n",
      "[0, 0.003, 0.003, 0.003, 0.003, 0.003, 0.003, 0.003, 0.009, 0.001]\n",
      "[0, 0.29, 0.29, 0.29, 0.29, 0.29, 0.29, 0.29, 1.42, 0.49]\n"
     ]
    }
   ],
   "source": [
    "import pandas as pd\n",
    "\n",
    "resP1 = [0,0,0,0,0,0,0,0,0,0]\n",
    "resC37 = [0,0,0,0,0,0,0,0,0,0]\n",
    "resB117 = [0,0,0,0,0,0,0,0,0,0]\n",
    "\n",
    "\n",
    "for res_file  in res_files:\n",
    "    #get the number of mutations\n",
    "    nm = res_file[2]\n",
    "    if res_file[3] != \"_\":\n",
    "        nm+= res_file[3]\n",
    "    nm = int(nm)\n",
    "    \n",
    "    # read tsv\n",
    "    tsv_file = open(res_file).readlines()[2:]\n",
    "    tv = 50\n",
    "\n",
    "    # find the other relevant sequence in the list from indices 2 - 11 and calculate relative prediction error\n",
    "    for item in tsv_file[1:]:\n",
    "        lineage = item.split(\"\\t\")[0]\n",
    "        ev = float(item.split(\"\\t\")[2])\n",
    "\n",
    "        difference = round(abs(ev-tv), 3)\n",
    "        relative_error_nm = round(difference/tv, 3)\n",
    "\n",
    "        \n",
    "        if lineage == \"P.1\":\n",
    "            resP1[nm] = relative_error_nm\n",
    "            \n",
    "        \n",
    "        if lineage == \"C.37\":\n",
    "            resC37[nm] = relative_error_nm\n",
    "        \n",
    "        if lineage == \"B.1.1.7\":\n",
    "            resB117[nm] = ev\n",
    "\n",
    "print(resP1)\n",
    "print(resC37)\n",
    "print(resB117)\n"
   ]
  },
  {
   "cell_type": "code",
   "execution_count": 3,
   "metadata": {},
   "outputs": [
    {
     "data": {
      "image/png": "[encoded data removed]",
      "text/plain": [
       "<Figure size 432x288 with 1 Axes>"
      ]
     },
     "metadata": {
      "needs_background": "light"
     },
     "output_type": "display_data"
    }
   ],
   "source": [
    "import matplotlib.pyplot as plt\n",
    "indx = [1,2,3,4,5,6,7,8,9]\n",
    "\n",
    "plt.grid()\n",
    "plt.plot(indx, resP1[1:], label = \"P.1\")\n",
    "plt.plot(indx, resC37[1:], label = \"C.37\")\n",
    "plt.ylabel('Relative prediction error (%)')\n",
    "plt.xlabel(\"Number of B.1.1.7 sequences\")\n",
    "plt.ylim(0, 0.6)\n",
    "plt.legend()\n",
    "plt.savefig(\"results/results_0.1_voc_2_exp.pdf\")"
   ]
  },
  {
   "cell_type": "markdown",
   "metadata": {},
   "source": []
  }
 ],
 "metadata": {
  "interpreter": {
   "hash": "aee8b7b246df8f9039afb4144a1f6fd8d2ca17a180786b69acc140d282b71a49"
  },
  "kernelspec": {
   "display_name": "Python 3.9.6 64-bit",
   "language": "python",
   "name": "python3"
  },
  "language_info": {
   "codemirror_mode": {
    "name": "ipython",
    "version": 3
   },
   "file_extension": ".py",
   "mimetype": "text/x-python",
   "name": "python",
   "nbconvert_exporter": "python",
   "pygments_lexer": "ipython3",
   "version": "3.9.7"
  },
  "orig_nbformat": 4
 },
 "nbformat": 4,
 "nbformat_minor": 2
}
