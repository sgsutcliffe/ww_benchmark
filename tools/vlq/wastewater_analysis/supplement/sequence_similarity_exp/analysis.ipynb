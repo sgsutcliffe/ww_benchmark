{
 "cells": [
  {
   "cell_type": "markdown",
   "metadata": {},
   "source": [
    "# Verify edit distance"
   ]
  },
  {
   "cell_type": "code",
   "execution_count": 2,
   "metadata": {},
   "outputs": [],
   "source": [
    "import editdistance"
   ]
  },
  {
   "cell_type": "code",
   "execution_count": 3,
   "metadata": {},
   "outputs": [],
   "source": [
    "mutated = open(\"sequences/sequence_with_18_mutations.fasta\",\"r\").readlines()[1:]\n",
    "mutated = \"\".join(mutated)\n",
    "#print(mutated)\n",
    "original = open(\"sequences/sequence_with_21_mutations.fasta\",\"r\").readlines()[1:]\n",
    "original = \"\".join(original)"
   ]
  },
  {
   "cell_type": "code",
   "execution_count": 4,
   "metadata": {},
   "outputs": [
    {
     "name": "stdout",
     "output_type": "stream",
     "text": [
      "39\n"
     ]
    }
   ],
   "source": [
    "print(editdistance.eval(mutated, original))"
   ]
  },
  {
   "cell_type": "markdown",
   "metadata": {},
   "source": [
    "# Analyse results of experiment"
   ]
  },
  {
   "cell_type": "code",
   "execution_count": 5,
   "metadata": {},
   "outputs": [
    {
     "name": "stdout",
     "output_type": "stream",
     "text": [
      "['./18_mutations/kallisto/benchmarks/SARS-CoV-2-NC_045513_ab50/predictions_m1.0.tsv', './15_mutations/kallisto/benchmarks/SARS-CoV-2-NC_045513_ab50/predictions_m1.0.tsv', './12_mutations/kallisto/benchmarks/SARS-CoV-2-NC_045513_ab50/predictions_m1.0.tsv', './27_mutations/kallisto/benchmarks/SARS-CoV-2-NC_045513_ab50/predictions_m1.0.tsv', './6_mutations/kallisto/benchmarks/SARS-CoV-2-NC_045513_ab50/predictions_m1.0.tsv', './21_mutations/kallisto/benchmarks/SARS-CoV-2-NC_045513_ab50/predictions_m1.0.tsv', './3_mutations/kallisto/benchmarks/SARS-CoV-2-NC_045513_ab50/predictions_m1.0.tsv', './24_mutations/kallisto/benchmarks/SARS-CoV-2-NC_045513_ab50/predictions_m1.0.tsv', './30_mutations/kallisto/benchmarks/SARS-CoV-2-NC_045513_ab50/predictions_m1.0.tsv', './9_mutations/kallisto/benchmarks/SARS-CoV-2-NC_045513_ab50/predictions_m1.0.tsv']\n"
     ]
    }
   ],
   "source": [
    "from utils import getListOfFiles\n",
    "import os\n",
    "\n",
    "all_files = getListOfFiles(os.curdir)\n",
    "res_path = \"kallisto/benchmarks/SARS-CoV-2-NC_045513_ab50/predictions_m1.0.tsv\"\n",
    "res_files = list(filter(lambda p: res_path in p, all_files))\n",
    "print(res_files)"
   ]
  },
  {
   "cell_type": "code",
   "execution_count": 6,
   "metadata": {},
   "outputs": [
    {
     "name": "stdout",
     "output_type": "stream",
     "text": [
      "{3: (0.005, 0.0), 6: (0.004, 0.0), 9: (0.004, 0.001), 12: (0.003, 0.002), 15: (0.004, 0.001), 18: (0.013, 0.008), 21: (0.002, 0.0), 24: (0.002, 0.0), 27: (0.005, 0.001), 30: (0.003, 0.0)}\n"
     ]
    }
   ],
   "source": [
    "import pandas as pd\n",
    "res_dict = {3:(0,0), 6:(0,0), 9:(0,0), \n",
    "    12:(0,0), 15 :(0,0), 18:(0,0), 21:(0,0), \n",
    "    24:(0,0), 27:(0,0), 30:(0,0)}\n",
    "\n",
    "for res_file  in res_files:\n",
    "    #get the number of mutations\n",
    "    nm = res_file[2]\n",
    "    if res_file[3] != \"_\":\n",
    "        nm+= res_file[3]\n",
    "    nm = int(nm)\n",
    "    \n",
    "    # read tsv\n",
    "    tsv_file = open(res_file).readlines()[2:]\n",
    "    \n",
    "    #String at location 1 corresponds to SARS-CoV-2-0m and the true value at the second position of the resulting list\n",
    "    #estimated value\n",
    "    m0_ev = float(tsv_file[1].split(\"\\t\")[2])\n",
    "    #true value\n",
    "    tv = 50\n",
    "    difference = round(abs(m0_ev-tv), 3)\n",
    "    relative_error_0 = round(difference/tv, 3)\n",
    "    #calculate relative prediction error for m0\n",
    "    #print(relative_error_0)\n",
    "\n",
    "    # find the other relevant sequence in the list from indices 2 - 11 and calculate relative prediction error\n",
    "    for i in range (2, 11):\n",
    "        if tsv_file[i].split(\"\\t\")[0].split(\"-\")[3] == str(nm)+\"m\":\n",
    "            mn_ev = float(tsv_file[i].split(\"\\t\")[2])\n",
    "            difference = round(abs(mn_ev-tv), 3)\n",
    "            relative_error_nm = round(difference/tv, 3)\n",
    "            #print(relative_error_nm)\n",
    "    \n",
    "    res_dict[nm] = (relative_error_0, relative_error_nm)\n",
    "\n",
    "print(res_dict)\n",
    "\n",
    "\n",
    "    \n",
    "\n",
    "\n",
    "        "
   ]
  },
  {
   "cell_type": "code",
   "execution_count": 7,
   "metadata": {},
   "outputs": [
    {
     "data": {
      "image/png": "[encoded data removed]",
      "text/plain": [
       "<Figure size 432x288 with 1 Axes>"
      ]
     },
     "metadata": {
      "needs_background": "light"
     },
     "output_type": "display_data"
    }
   ],
   "source": [
    "import matplotlib.pyplot as plt\n",
    "import numpy as np\n",
    "from importlib import reload\n",
    "xs = []\n",
    "line_1 = []\n",
    "line_2 = []\n",
    "for entry in res_dict.items():\n",
    "    xs.append(entry[0])\n",
    "    line_1.append(entry[1][0])\n",
    "    line_2.append(entry[1][1])\n",
    "\n",
    "plt=reload(plt)\n",
    "plt.plot(xs, line_1, label=\"Original sequence\")\n",
    "plt.plot(xs, line_2, label=\"Simulated sequence\")\n",
    "plt.ylim(top= 0.6)\n",
    "plt.legend()\n",
    "plt.grid()\n",
    "plt.xticks(np.arange(0,33,3))\n",
    "plt.xlabel('Number of mutations in simulated sequence')\n",
    "plt.ylabel('Relative prediction error (%)')\n",
    "plt.savefig(\"results/results_fixed_title.pdf\")\n",
    "plt.show()"
   ]
  }
 ],
 "metadata": {
  "interpreter": {
   "hash": "aee8b7b246df8f9039afb4144a1f6fd8d2ca17a180786b69acc140d282b71a49"
  },
  "kernelspec": {
   "display_name": "Python 3.9.6 64-bit",
   "language": "python",
   "name": "python3"
  },
  "language_info": {
   "codemirror_mode": {
    "name": "ipython",
    "version": 3
   },
   "file_extension": ".py",
   "mimetype": "text/x-python",
   "name": "python",
   "nbconvert_exporter": "python",
   "pygments_lexer": "ipython3",
   "version": "3.9.7"
  },
  "orig_nbformat": 4
 },
 "nbformat": 4,
 "nbformat_minor": 2
}
