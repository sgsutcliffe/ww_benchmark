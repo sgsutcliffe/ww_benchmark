{
 "cells": [
  {
   "cell_type": "code",
   "execution_count": 1,
   "metadata": {},
   "outputs": [],
   "source": [
    "import editdistance\n",
    "from Bio import SeqIO\n",
    "from Bio.SeqRecord import SeqRecord\n",
    "import numpy as np\n"
   ]
  },
  {
   "cell_type": "code",
   "execution_count": 2,
   "metadata": {},
   "outputs": [],
   "source": [
    "ed_array =np.zeros((11,11))\n",
    "path_to_trimmed = \"sequences_trimmed.fasta\"\n",
    "path = \"sequences_filtered_10.fasta\"\n",
    "i = -1\n",
    "for record in SeqIO.parse(path, \"fasta\"):\n",
    "    i+=1\n",
    "    if record.id != \"hCoV-19/USA/CA-HLX-STM-5GZTN7FJC/2021\":\n",
    "        j=-1\n",
    "        for record2 in SeqIO.parse(path, \"fasta\"):\n",
    "            if record2.id != \"hCoV-19/USA/CA-HLX-STM-5GZTN7FJC/2021\":\n",
    "                j+=1\n",
    "                ed =editdistance.eval(record.seq, record2.seq)\n",
    "                ed_array[i][j] = ed"
   ]
  },
  {
   "cell_type": "code",
   "execution_count": 3,
   "metadata": {},
   "outputs": [
    {
     "name": "stdout",
     "output_type": "stream",
     "text": [
      "[[   0.  290.  554.  294.  429.  725.  341. 1153.  552.  352.    0.]\n",
      " [ 290.    0.  307.   30.  187.  490.   84.  896.  321.  109.    0.]\n",
      " [ 554.  307.    0.  324.  481.  778.  378. 1190.  615.  403.    0.]\n",
      " [ 294.   30.  324.    0.  197.  470.   94.  890.  308.   99.    0.]\n",
      " [ 429.  187.  481.  197.    0.  431.  115.  899.  179.  184.    0.]\n",
      " [ 725.  490.  778.  470.  431.    0.  418. 1186.  354.  447.    0.]\n",
      " [ 341.   84.  378.   94.  115.  418.    0.  818.  249.  119.    0.]\n",
      " [1153.  896. 1190.  890.  899. 1186.  818.    0. 1014.  905.    0.]\n",
      " [ 552.  321.  615.  308.  179.  354.  249. 1014.    0.  311.    0.]\n",
      " [ 352.  109.  403.   99.  184.  447.  119.  905.  311.    0.    0.]\n",
      " [   0.    0.    0.    0.    0.    0.    0.    0.    0.    0.    0.]]\n"
     ]
    }
   ],
   "source": [
    "print(ed_array)"
   ]
  },
  {
   "cell_type": "code",
   "execution_count": 6,
   "metadata": {},
   "outputs": [
    {
     "name": "stdout",
     "output_type": "stream",
     "text": [
      "[[307.  39. 333.  51. 154. 457.  57. 862. 288.  94.]\n",
      " [394. 164. 455. 162. 180. 448. 122. 922. 290. 154.]]\n"
     ]
    }
   ],
   "source": [
    "from collections import Counter \n",
    "ba1 = next(SeqIO.parse(\"../sequences/BA.1_EPI_ISL_10223811.fasta\", \"fasta\"))\n",
    "ba2 = next(SeqIO.parse(\"../sequences/BA.2_EPI_ISL_10268413.fasta\", \"fasta\"))\n",
    "ba2ref = next(SeqIO.parse(\"../sequences/BA.2/1646230814919.sequences.fasta\", \"fasta\"))\n",
    "ed_dist_to_bas = np.zeros((2,10))\n",
    "\n",
    "path_to_trimmed = \"sequences_trimmed.fasta\"\n",
    "path = \"sequences_filtered_10.fasta\"\n",
    "\n",
    "indx_seqid = {\n",
    "\"hCoV-19/USA/TN-ASC-210578418/2021\": 0,\t\n",
    "\"hCoV-19/USA/TN-ASC-210594362/2021\": 1,\t\n",
    "\"hCoV-19/USA/TN-ASC-210594334/2021\": 2,\t\n",
    "\"hCoV-19/USA/TN-ASC-210580074/2021\": 3,\t\n",
    "\"hCoV-19/USA/CA-LACPHL-AF06940/2021\": 4,\t\n",
    "\"hCoV-19/USA/IL-IDPH-RAN-SV-002604/2021\": 5,\t\n",
    "\"hCoV-19/USA/ID-IBL-779207/2021\": 6,\t\n",
    "\"hCoV-19/USA/ID-IBL-779196/2021\": 7,\n",
    "\"hCoV-19/USA/MD-CDC-LC0437785/2021\": 8,\n",
    "\"hCoV-19/USA/NC-CLT-CORVASEQ-004208/2021\":9\n",
    "}\n",
    "\n",
    "ba2refed = np.zeros(10)\n",
    "for record in SeqIO.parse(path, \"fasta\"):\n",
    "    if record.id != \"hCoV-19/USA/CA-HLX-STM-5GZTN7FJC/2021\":\n",
    "        if None != Counter(record.seq).get(\"N\"):\n",
    "            N = Counter(record.seq).get(\"N\")\n",
    "        else:\n",
    "            N = 0\n",
    "        edba1 = editdistance.eval(record.seq,ba1.seq) \n",
    "        edba2 = editdistance.eval(record.seq, ba2.seq) \n",
    "        ed_dist_to_bas[0][indx_seqid.get(record.id)] = edba1\n",
    "        ed_dist_to_bas[1][indx_seqid.get(record.id)] = edba2\n",
    "        # ba2refed[indx_seqid.get(record.id)] = editdistance.eval(record.seq, ba2ref.seq)\n",
    "\n",
    "# print(ba2refed)        \n",
    "print(ed_dist_to_bas)"
   ]
  },
  {
   "cell_type": "code",
   "execution_count": 7,
   "metadata": {},
   "outputs": [
    {
     "name": "stdout",
     "output_type": "stream",
     "text": [
      "198 132\n"
     ]
    }
   ],
   "source": [
    "from collections import Counter \n",
    "ba1 = next(SeqIO.parse(\"../sequences/BA.1_EPI_ISL_10223811.fasta\", \"fasta\"))\n",
    "ba2 = next(SeqIO.parse(\"../sequences/BA.2_EPI_ISL_10268413.fasta\", \"fasta\"))\n",
    "ba2ref = next(SeqIO.parse(\"../sequences/BA.2/1646230814919.sequences.fasta\", \"fasta\"))\n",
    "# print(ba1.id)\n",
    "edba1 = editdistance.eval(ba1.seq, ba2ref)\n",
    "edba2 = editdistance.eval(ba2.seq, ba2ref)\n",
    "\n",
    "print(edba1, edba2)\n"
   ]
  }
 ],
 "metadata": {
  "interpreter": {
   "hash": "aee8b7b246df8f9039afb4144a1f6fd8d2ca17a180786b69acc140d282b71a49"
  },
  "kernelspec": {
   "display_name": "Python 3.9.6 64-bit",
   "language": "python",
   "name": "python3"
  },
  "language_info": {
   "codemirror_mode": {
    "name": "ipython",
    "version": 3
   },
   "file_extension": ".py",
   "mimetype": "text/x-python",
   "name": "python",
   "nbconvert_exporter": "python",
   "pygments_lexer": "ipython3",
   "version": "3.9.7"
  },
  "orig_nbformat": 4
 },
 "nbformat": 4,
 "nbformat_minor": 2
}
